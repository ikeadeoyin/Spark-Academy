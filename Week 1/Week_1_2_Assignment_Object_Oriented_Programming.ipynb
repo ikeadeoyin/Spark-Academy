{
  "nbformat": 4,
  "nbformat_minor": 0,
  "metadata": {
    "colab": {
      "provenance": [],
      "include_colab_link": true
    },
    "kernelspec": {
      "name": "python3",
      "display_name": "Python 3"
    },
    "language_info": {
      "name": "python"
    }
  },
  "cells": [
    {
      "cell_type": "markdown",
      "metadata": {
        "id": "view-in-github",
        "colab_type": "text"
      },
      "source": [
        "<a href=\"https://colab.research.google.com/github/ikeadeoyin/Spark-Academy/blob/main/Week%201/Week_1_2_Assignment_Object_Oriented_Programming.ipynb\" target=\"_parent\"><img src=\"https://colab.research.google.com/assets/colab-badge.svg\" alt=\"Open In Colab\"/></a>"
      ]
    },
    {
      "cell_type": "markdown",
      "source": [
        "## Hello everybody 😃 😃 welcome back\n",
        "\n",
        "This assignment is for workshop_02 in Object_Oriented Programming (OOP) in python."
      ],
      "metadata": {
        "id": "eispJBJUKmjG"
      }
    },
    {
      "cell_type": "markdown",
      "source": [
        "### Let's dive deeper 😁\n",
        "\n",
        "Object oriented programming is based on the idea of grouping data and functions together in what's called a class.\n"
      ],
      "metadata": {
        "id": "dDq4usPd48Hw"
      }
    },
    {
      "cell_type": "markdown",
      "source": [
        "## Let's see some main concepts 😃😃\n",
        "\n",
        "We can define a class by typing Class then the name of the class. we can also define variables inside the class and they could be only used within the class.\n",
        "\n",
        "The init function is where you add your variables. but this time we don't just declare the variables as before, but we add them as a self.variable_name to be accessible within all functions in the class.\n",
        "\n",
        "\n",
        "```\n",
        "class Person():\n",
        "  def __init__(name, age)\n",
        "    self.name = name\n",
        "    self.age = age\n",
        "\n",
        "  def check_age()\n",
        "    if self.age > 30:\n",
        "      print(True)\n",
        "\n",
        "\n",
        "\n",
        "  p = Person(\"Alice\" , 25)\n",
        "\n",
        "```\n",
        "\n",
        "So, here we created a class called person that we could define a name and age for.\n",
        "\n",
        "To use this class we create an instance from it which is called \"Object\" we just do as in the code. Name the object (in this case p) and give it the values needed by the init function.\n",
        "\n",
        "\n",
        "\n",
        "```\n",
        "print(p.check_age())\n",
        "\n",
        "False\n",
        "```\n",
        "\n",
        "We can also call functions from the class. Just like this ✅ ✅\n"
      ],
      "metadata": {
        "id": "Oh3kuN9XJz9m"
      }
    },
    {
      "cell_type": "markdown",
      "source": [
        "\n",
        "**Q1.**\n",
        " Consider the following example of a class of participants in a workshop. Add a variable 'pronoun' to the Participant class and make a method that can access to the pronoun of each partcipant and print it."
      ],
      "metadata": {
        "id": "9EM_GIecNDCR"
      }
    },
    {
      "cell_type": "code",
      "source": [
        "class Participant():\n",
        "  def __init__(self, name, job, country, age, pronoun):\n",
        "    self.name = name\n",
        "    self.job = job\n",
        "    self.country = country\n",
        "    self.age = age\n",
        "    self.pronoun = pronoun\n",
        "\n",
        "  def introduce(self):\n",
        "    intro = f'My name is {self.name}. I am from {self.country}.'\n",
        "    return (intro)\n",
        "\n",
        "  def career(self):\n",
        "    print(f'My job is {self.job}.')\n",
        "\n",
        "  def pronoun(self):\n",
        "    print(f'My pronouns is {self.pronoun}')\n"
      ],
      "metadata": {
        "id": "ysLDm91jNg-c"
      },
      "execution_count": 1,
      "outputs": []
    },
    {
      "cell_type": "markdown",
      "source": [
        "**Q2.**\n",
        "Complete the Message class given below using the 'length' method to return the length of a message. Add an 'append' method that add the all tweets into the tweets list.\n",
        "\n",
        "Then try to make some objects based on the completed version of the class and apply the methods for them."
      ],
      "metadata": {
        "id": "pIdma5T4WSnW"
      }
    },
    {
      "cell_type": "code",
      "source": [
        "import time\n",
        "class Message():\n",
        "  def __init__(self, owner, tweet):\n",
        "    self.owner = owner\n",
        "    self.tweet = tweet\n",
        "    self.time = time.time()\n",
        "    self.tweets = [tweet]\n",
        "\n",
        "  def tweeter(self):\n",
        "    print(f'{self.owner} is the author of the \\n{self.tweet}.')\n",
        "\n",
        "  def __len__(self):\n",
        "    #return the length and the owner of the tweet.\n",
        "    return len(self.tweet)\n",
        "    return self.owner\n",
        "\n",
        "  def __append__(self, tweet):\n",
        "    self.tweets.append(tweet)\n",
        "\n",
        "\n",
        "\n",
        "\n"
      ],
      "metadata": {
        "id": "SvgdwdQCZFLa"
      },
      "execution_count": 5,
      "outputs": []
    },
    {
      "cell_type": "markdown",
      "source": [
        "**Q3.**\n",
        "Complete the Student class and implement the operator methods such as:\n",
        "1. \\__le__()\n",
        "2. \\__ge__()\n",
        "3. \\__eq__()\n",
        "4. \\__add__()\n",
        "5. \\__mul__()\n",
        "\n",
        "Then apply them over the objects of the class."
      ],
      "metadata": {
        "id": "yR8ccniB4rAk"
      }
    },
    {
      "cell_type": "code",
      "source": [
        "class Student():\n",
        "  def __init__(self, name, mark):\n",
        "    self.name = name\n",
        "    self.mark = mark\n",
        "\n",
        "  def __add__(self, other):\n",
        "    return self.mark + other.mark\n",
        "\n",
        "  def __mul__(self, other):\n",
        "    return self.mark * other.mark\n",
        "\n",
        "  def __le__(self, other):\n",
        "    return self.mark <= other.mark\n",
        "\n",
        "  def __ge__(self, other):\n",
        "    return self.mark >= other.mark\n",
        "\n",
        "  def __eq__(self, other):\n",
        "    return self.mark == other.mark\n",
        "\n",
        "\n",
        "score_1 = Student(\"Alabi\", 59)\n",
        "score_2 = Student(\"Alabi\", 19)\n",
        "\n",
        "print(score_1.__le__(score_2))\n",
        "print(score_1.__ge__(score_2))\n",
        "print(score_1.__eq__(score_2))\n",
        "print(score_1.__add__(score_2))\n",
        "print(score_1.__mul__(score_2))\n",
        "\n"
      ],
      "metadata": {
        "id": "bAJ4GmbT72p0",
        "outputId": "1ae22780-8fbb-481f-a1a3-11b5e9740475",
        "colab": {
          "base_uri": "https://localhost:8080/"
        }
      },
      "execution_count": 4,
      "outputs": [
        {
          "output_type": "stream",
          "name": "stdout",
          "text": [
            "False\n",
            "True\n",
            "False\n",
            "78\n",
            "1121\n"
          ]
        }
      ]
    }
  ]
}